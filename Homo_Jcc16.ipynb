{
 "cells": [
  {
   "cell_type": "code",
   "execution_count": 1,
   "id": "ffc5c4a1",
   "metadata": {},
   "outputs": [],
   "source": [
    "import math\n",
    "import pandas as pd\n",
    "import natsort\n",
    "import os"
   ]
  },
  {
   "cell_type": "code",
   "execution_count": 2,
   "id": "82cf530d",
   "metadata": {},
   "outputs": [],
   "source": [
    "folder_path = \"E:/Mtech/Homogneous/Jcc_16/\"\n",
    "files = []\n",
    "total_distances = []\n",
    "translocations = []\n",
    "for subfolder in os.listdir(folder_path):\n",
    "    subfolder_path = os.path.join(folder_path,subfolder)\n",
    "    if os.path.isdir(subfolder_path):\n",
    "        data_files = natsort.natsorted([file for file in os.listdir(subfolder_path) if file.endswith('.csv') and file.startswith('Data')],reverse = False)\n",
    "        for data_file in data_files:\n",
    "            csv_file_path = os.path.join(subfolder_path, data_file)\n",
    "            df = pd.read_csv(csv_file_path)\n",
    "            total_distance = 0\n",
    "            for index, row in df.iterrows():\n",
    "                x1 = row[1]\n",
    "                y1 = row[2]\n",
    "\n",
    "                if index < len(df) - 1:\n",
    "                    next_row = df.iloc[index + 1]\n",
    "                    x2 = next_row[1]\n",
    "                    y2 = next_row[2]\n",
    "                    distance = (math.sqrt((x2 - x1) ** 2 + (y2 - y1) ** 2))*2\n",
    "                    total_distance += distance\n",
    "\n",
    "            total_distances.append(total_distance)\n",
    "\n",
    "            if len(df) > 0:\n",
    "                last_row = df.iloc[1798]\n",
    "                x_t1 = last_row[1]\n",
    "                y_t1 = last_row[2]\n",
    "                first_row = df.iloc[0]\n",
    "                x_t2 = first_row[1]\n",
    "                y_t2 = first_row[2]\n",
    "                translocation = (math.sqrt((x_t2 - x_t1) ** 2 + (y_t2 - y_t1) ** 2))*2\n",
    "            translocations.append(translocation)\n",
    "\n",
    "# output_df.describe()\n",
    "total_distance_df = pd.DataFrame({'Total Distance': total_distances})\n",
    "total_distance_df = total_distance_df.values.reshape(22,69)\n",
    "output_df = pd.DataFrame(total_distance_df)\n",
    "output_df = output_df.T\n",
    "output_folder_path = os.path.join(folder_path, 'output_distances.xlsx')\n",
    "output_df.to_excel(output_folder_path, index=False)\n",
    "output_df.columns = [f'Distance_{i+1}' for i in range(1,23)]\n",
    "\n",
    "translocation_df = pd.DataFrame({'Translocation': translocations})\n",
    "output1_folder_path = os.path.join(folder_path, 'output_translocation.xlsx')\n",
    "translocation_df.to_excel(output1_folder_path, index=False)\n",
    "\n",
    "total_displacement_columnwise_df = pd.DataFrame({'Translocation_columnwise': translocations})\n",
    "total_displacement_columnwise_df = total_displacement_columnwise_df.values.reshape(22,69)\n",
    "output2_df = pd.DataFrame(total_displacement_columnwise_df)\n",
    "output2_df = output2_df.T\n",
    "output2_folder_path = os.path.join(folder_path, 'output_displacements_columnwise.xlsx')\n",
    "output2_df.to_excel(output2_folder_path, index=False)\n",
    "output2_df.columns = [f'Displacements_{i+1}' for i in range(1,23)]    "
   ]
  },
  {
   "cell_type": "code",
   "execution_count": 3,
   "id": "15289417",
   "metadata": {},
   "outputs": [
    {
     "name": "stdout",
     "output_type": "stream",
     "text": [
      "0           1799.000000\n",
      " 274.46      485.842105\n",
      " 294.4       312.912281\n",
      " 100         114.000000\n",
      " 42.0         58.000000\n",
      "Name: 1798, dtype: float64\n"
     ]
    }
   ],
   "source": [
    "print(last_row)"
   ]
  },
  {
   "cell_type": "code",
   "execution_count": null,
   "id": "4a3194aa",
   "metadata": {},
   "outputs": [],
   "source": []
  }
 ],
 "metadata": {
  "kernelspec": {
   "display_name": "Python 3 (ipykernel)",
   "language": "python",
   "name": "python3"
  },
  "language_info": {
   "codemirror_mode": {
    "name": "ipython",
    "version": 3
   },
   "file_extension": ".py",
   "mimetype": "text/x-python",
   "name": "python",
   "nbconvert_exporter": "python",
   "pygments_lexer": "ipython3",
   "version": "3.9.13"
  }
 },
 "nbformat": 4,
 "nbformat_minor": 5
}
